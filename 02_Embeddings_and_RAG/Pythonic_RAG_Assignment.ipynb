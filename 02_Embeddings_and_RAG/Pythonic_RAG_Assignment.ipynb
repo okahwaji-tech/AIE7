{
 "cells": [
  {
   "cell_type": "markdown",
   "metadata": {
    "id": "lElF3o5PR6ys"
   },
   "source": [
    "# Your First RAG Application\n",
    "\n",
    "In this notebook, we'll walk you through each of the components that are involved in a simple RAG application.\n",
    "\n",
    "We won't be leveraging any fancy tools, just the OpenAI Python SDK, Numpy, and some classic Python.\n",
    "\n",
    "> NOTE: This was done with Python 3.11.4.\n",
    "\n",
    "> NOTE: There might be [compatibility issues](https://github.com/wandb/wandb/issues/7683) if you're on NVIDIA driver >552.44 As an interim solution - you can rollback your drivers to the 552.44."
   ]
  },
  {
   "cell_type": "markdown",
   "metadata": {
    "id": "5CtcL8P8R6yt"
   },
   "source": [
    "## Table of Contents:\n",
    "\n",
    "- Task 1: Imports and Utilities\n",
    "- Task 2: Documents\n",
    "- Task 3: Embeddings and Vectors\n",
    "- Task 4: Prompts\n",
    "- Task 5: Retrieval Augmented Generation\n",
    "  - 🚧 Activity #1: Augment RAG"
   ]
  },
  {
   "cell_type": "markdown",
   "metadata": {
    "id": "1Dz6GYilR6yt"
   },
   "source": [
    "Let's look at a rather complicated looking visual representation of a basic RAG application.\n",
    "\n",
    "<img src=\"https://i.imgur.com/vD8b016.png\" />"
   ]
  },
  {
   "cell_type": "markdown",
   "metadata": {
    "id": "PjmC0KFtR6yt"
   },
   "source": [
    "## Task 1: Imports and Utility\n",
    "\n",
    "We're just doing some imports and enabling `async` to work within the Jupyter environment here, nothing too crazy!"
   ]
  },
  {
   "cell_type": "code",
   "metadata": {
    "id": "Z1dyrG4hR6yt",
    "ExecuteTime": {
     "end_time": "2025-06-28T16:23:18.218096Z",
     "start_time": "2025-06-28T16:23:18.212147Z"
    }
   },
   "source": [
    "from aimakerspace.text_utils import TextFileLoader, CharacterTextSplitter\n",
    "from aimakerspace.vectordatabase import VectorDatabase, cosine_similarity\n",
    "import asyncio"
   ],
   "outputs": [],
   "execution_count": 27
  },
  {
   "cell_type": "code",
   "metadata": {
    "id": "9OrFZRnER6yt",
    "ExecuteTime": {
     "end_time": "2025-06-28T16:23:18.244936Z",
     "start_time": "2025-06-28T16:23:18.240895Z"
    }
   },
   "source": [
    "import nest_asyncio\n",
    "nest_asyncio.apply()"
   ],
   "outputs": [],
   "execution_count": 28
  },
  {
   "cell_type": "markdown",
   "metadata": {
    "id": "M0jGnpQsR6yu"
   },
   "source": [
    "## Task 2: Documents\n",
    "\n",
    "We'll be concerning ourselves with this part of the flow in the following section:\n",
    "\n",
    "<img src=\"https://i.imgur.com/jTm9gjk.png\" />"
   ]
  },
  {
   "cell_type": "markdown",
   "metadata": {
    "id": "-SFPWvRUR6yu"
   },
   "source": [
    "### Loading Source Documents\n",
    "\n",
    "So, first things first, we need some documents to work with.\n",
    "\n",
    "While we could work directly with the `.txt` files (or whatever file-types you wanted to extend this to) we can instead do some batch processing of those documents at the beginning in order to store them in a more machine compatible format.\n",
    "\n",
    "In this case, we're going to parse our text file into a single document in memory.\n",
    "\n",
    "Let's look at the relevant bits of the `TextFileLoader` class:\n",
    "\n",
    "```python\n",
    "def load_file(self):\n",
    "        with open(self.path, \"r\", encoding=self.encoding) as f:\n",
    "            self.documents.append(f.read())\n",
    "```\n",
    "\n",
    "We're simply loading the document using the built in `open` method, and storing that output in our `self.documents` list.\n",
    "\n",
    "> NOTE: We're using blogs from PMarca (Marc Andreessen) as our sample data. This data is largely irrelevant as we want to focus on the mechanisms of RAG, which includes out data's shape and quality - but not specifically what the contents of the data are. \n"
   ]
  },
  {
   "cell_type": "code",
   "metadata": {
    "colab": {
     "base_uri": "https://localhost:8080/"
    },
    "id": "Ia2sUEuGR6yu",
    "outputId": "84937ecc-c35f-4c4a-a4ab-9da72625954c",
    "ExecuteTime": {
     "end_time": "2025-06-28T16:23:18.271250Z",
     "start_time": "2025-06-28T16:23:18.264190Z"
    }
   },
   "source": [
    "text_loader = TextFileLoader(\"data/PMarcaBlogs.txt\")\n",
    "documents = text_loader.load_documents()\n",
    "len(documents)"
   ],
   "outputs": [
    {
     "data": {
      "text/plain": [
       "1"
      ]
     },
     "execution_count": 29,
     "metadata": {},
     "output_type": "execute_result"
    }
   ],
   "execution_count": 29
  },
  {
   "cell_type": "code",
   "metadata": {
    "colab": {
     "base_uri": "https://localhost:8080/"
    },
    "id": "bV-tj5WFR6yu",
    "outputId": "674eb315-1ff3-4597-bcf5-38ece0a812ac",
    "ExecuteTime": {
     "end_time": "2025-06-28T16:23:18.288028Z",
     "start_time": "2025-06-28T16:23:18.286345Z"
    }
   },
   "source": [
    "print(documents[0][:100])"
   ],
   "outputs": [
    {
     "name": "stdout",
     "output_type": "stream",
     "text": [
      "﻿\n",
      "The Pmarca Blog Archives\n",
      "(select posts from 2007-2009)\n",
      "Marc Andreessen\n",
      "copyright: Andreessen Horow\n"
     ]
    }
   ],
   "execution_count": 30
  },
  {
   "cell_type": "markdown",
   "metadata": {
    "id": "nHlTvCzYR6yu"
   },
   "source": [
    "### Splitting Text Into Chunks\n",
    "\n",
    "As we can see, there is one massive document.\n",
    "\n",
    "We'll want to chunk the document into smaller parts so it's easier to pass the most relevant snippets to the LLM.\n",
    "\n",
    "There is no fixed way to split/chunk documents - and you'll need to rely on some intuition as well as knowing your data *very* well in order to build the most robust system.\n",
    "\n",
    "For this toy example, we'll just split blindly on length.\n",
    "\n",
    ">There's an opportunity to clear up some terminology here, for this course we will be stick to the following:\n",
    ">\n",
    ">- \"source documents\" : The `.txt`, `.pdf`, `.html`, ..., files that make up the files and information we start with in its raw format\n",
    ">- \"document(s)\" : single (or more) text object(s)\n",
    ">- \"corpus\" : the combination of all of our documents"
   ]
  },
  {
   "cell_type": "markdown",
   "metadata": {
    "id": "2G6Voc0jR6yv"
   },
   "source": [
    "As you can imagine (though it's not specifically true in this toy example) the idea of splitting documents is to break them into managable sized chunks that retain the most relevant local context."
   ]
  },
  {
   "cell_type": "code",
   "metadata": {
    "colab": {
     "base_uri": "https://localhost:8080/"
    },
    "id": "UMC4tsEmR6yv",
    "outputId": "08689c0b-57cd-4040-942a-8193e997f5cb",
    "ExecuteTime": {
     "end_time": "2025-06-28T16:23:18.307586Z",
     "start_time": "2025-06-28T16:23:18.305379Z"
    }
   },
   "source": [
    "text_splitter = CharacterTextSplitter()\n",
    "split_documents = text_splitter.split_texts(documents)\n",
    "len(split_documents)"
   ],
   "outputs": [
    {
     "data": {
      "text/plain": [
       "373"
      ]
     },
     "execution_count": 31,
     "metadata": {},
     "output_type": "execute_result"
    }
   ],
   "execution_count": 31
  },
  {
   "cell_type": "markdown",
   "metadata": {
    "id": "W2wKT0WLR6yv"
   },
   "source": [
    "Let's take a look at some of the documents we've managed to split."
   ]
  },
  {
   "cell_type": "code",
   "metadata": {
    "colab": {
     "base_uri": "https://localhost:8080/"
    },
    "id": "vcYMwWJoR6yv",
    "outputId": "20d69876-feca-4826-b4be-32915276987a",
    "ExecuteTime": {
     "end_time": "2025-06-28T16:23:18.328469Z",
     "start_time": "2025-06-28T16:23:18.326138Z"
    }
   },
   "source": [
    "split_documents[0:1]"
   ],
   "outputs": [
    {
     "data": {
      "text/plain": [
       "['\\ufeff\\nThe Pmarca Blog Archives\\n(select posts from 2007-2009)\\nMarc Andreessen\\ncopyright: Andreessen Horowitz\\ncover design: Jessica Hagy\\nproduced using: Pressbooks\\nContents\\nTHE PMARCA GUIDE TO STARTUPS\\nPart 1: Why not to do a startup 2\\nPart 2: When the VCs say \"no\" 10\\nPart 3: \"But I don\\'t know any VCs!\" 18\\nPart 4: The only thing that matters 25\\nPart 5: The Moby Dick theory of big companies 33\\nPart 6: How much funding is too little? Too much? 41\\nPart 7: Why a startup\\'s initial business plan doesn\\'t\\nmatter that much\\n49\\nTHE PMARCA GUIDE TO HIRING\\nPart 8: Hiring, managing, promoting, and Dring\\nexecutives\\n54\\nPart 9: How to hire a professional CEO 68\\nHow to hire the best people you\\'ve ever worked\\nwith\\n69\\nTHE PMARCA GUIDE TO BIG COMPANIES\\nPart 1: Turnaround! 82\\nPart 2: Retaining great people 86\\nTHE PMARCA GUIDE TO CAREER, PRODUCTIVITY,\\nAND SOME OTHER THINGS\\nIntroduction 97\\nPart 1: Opportunity 99\\nPart 2: Skills and education 107\\nPart 3: Where to go and why 120\\nThe Pmarca Guide to Personal Productivi']"
      ]
     },
     "execution_count": 32,
     "metadata": {},
     "output_type": "execute_result"
    }
   ],
   "execution_count": 32
  },
  {
   "cell_type": "markdown",
   "metadata": {
    "id": "HOU-RFP_R6yv"
   },
   "source": [
    "## Task 3: Embeddings and Vectors\n",
    "\n",
    "Next, we have to convert our corpus into a \"machine readable\" format as we explored in the Embedding Primer notebook.\n",
    "\n",
    "Today, we're going to talk about the actual process of creating, and then storing, these embeddings, and how we can leverage that to intelligently add context to our queries."
   ]
  },
  {
   "cell_type": "markdown",
   "metadata": {},
   "source": [
    "### OpenAI API Key\n",
    "\n",
    "In order to access OpenAI's APIs, we'll need to provide our OpenAI API Key!\n",
    "\n",
    "You can work through the folder \"OpenAI API Key Setup\" for more information on this process if you don't already have an API Key!"
   ]
  },
  {
   "cell_type": "code",
   "metadata": {
    "ExecuteTime": {
     "end_time": "2025-06-28T16:23:19.788831Z",
     "start_time": "2025-06-28T16:23:18.346576Z"
    }
   },
   "source": [
    "import os\n",
    "import openai\n",
    "from getpass import getpass\n",
    "\n",
    "openai.api_key = getpass(\"OpenAI API Key: \")\n",
    "os.environ[\"OPENAI_API_KEY\"] = openai.api_key"
   ],
   "outputs": [],
   "execution_count": 33
  },
  {
   "cell_type": "markdown",
   "metadata": {},
   "source": [
    "### Vector Database\n",
    "\n",
    "Let's set up our vector database to hold all our documents and their embeddings!"
   ]
  },
  {
   "cell_type": "markdown",
   "metadata": {
    "id": "kDQrfAR1R6yv"
   },
   "source": [
    "While this is all baked into 1 call - we can look at some of the code that powers this process to get a better understanding:\n",
    "\n",
    "Let's look at our `VectorDatabase().__init__()`:\n",
    "\n",
    "```python\n",
    "def __init__(self, embedding_model: EmbeddingModel = None):\n",
    "        self.vectors = defaultdict(np.array)\n",
    "        self.embedding_model = embedding_model or EmbeddingModel()\n",
    "```\n",
    "\n",
    "As you can see - our vectors are merely stored as a dictionary of `np.array` objects.\n",
    "\n",
    "Secondly, our `VectorDatabase()` has a default `EmbeddingModel()` which is a wrapper for OpenAI's `text-embedding-3-small` model.\n",
    "\n",
    "> **Quick Info About `text-embedding-3-small`**:\n",
    "> - It has a context window of **8191** tokens\n",
    "> - It returns vectors with dimension **1536**"
   ]
  },
  {
   "cell_type": "markdown",
   "metadata": {
    "id": "L273pRdeR6yv"
   },
   "source": [
    "#### ❓Question #1:\n",
    "\n",
    "The default embedding dimension of `text-embedding-3-small` is 1536, as noted above. \n",
    "\n",
    "1. Is there any way to modify this dimension?  Using Dimension atrribute in the request\n",
    "2. What technique does OpenAI use to achieve this?  SVD Truncation\n",
    "\n",
    "> NOTE: Check out this [API documentation](https://platform.openai.com/docs/api-reference/embeddings/create) for the answer to question #1, and [this documentation](https://platform.openai.com/docs/guides/embeddings/use-cases) for an answer to question #2!"
   ]
  },
  {
   "cell_type": "markdown",
   "metadata": {
    "id": "w5FZY7K3R6yv"
   },
   "source": [
    "We can call the `async_get_embeddings` method of our `EmbeddingModel()` on a list of `str` and receive a list of `float` back!\n",
    "\n",
    "```python\n",
    "async def async_get_embeddings(self, list_of_text: List[str]) -> List[List[float]]:\n",
    "        return await aget_embeddings(\n",
    "            list_of_text=list_of_text, engine=self.embeddings_model_name\n",
    "        )\n",
    "```"
   ]
  },
  {
   "cell_type": "markdown",
   "metadata": {
    "id": "cSct6X0aR6yv"
   },
   "source": [
    "We cast those to `np.array` when we build our `VectorDatabase()`:\n",
    "\n",
    "```python\n",
    "async def abuild_from_list(self, list_of_text: List[str]) -> \"VectorDatabase\":\n",
    "        embeddings = await self.embedding_model.async_get_embeddings(list_of_text)\n",
    "        for text, embedding in zip(list_of_text, embeddings):\n",
    "            self.insert(text, np.array(embedding))\n",
    "        return self\n",
    "```\n",
    "\n",
    "And that's all we need to do!"
   ]
  },
  {
   "cell_type": "code",
   "metadata": {
    "id": "O4KoLbVDR6yv",
    "ExecuteTime": {
     "end_time": "2025-06-28T16:23:21.644457Z",
     "start_time": "2025-06-28T16:23:19.823348Z"
    }
   },
   "source": [
    "vector_db = VectorDatabase()\n",
    "vector_db = asyncio.run(vector_db.abuild_from_list(split_documents))"
   ],
   "outputs": [],
   "execution_count": 34
  },
  {
   "cell_type": "markdown",
   "metadata": {
    "id": "SSZwaGvpR6yv"
   },
   "source": [
    "#### ❓Question #2:\n",
    "\n",
    "What are the benefits of using an `async` approach to collecting our embeddings?\n",
    "\n",
    "> NOTE: Determining the core difference between `async` and `sync` will be useful! If you get stuck - ask ChatGPT!"
   ]
  },
  {
   "cell_type": "markdown",
   "metadata": {
    "id": "nRBdIt-xR6yw"
   },
   "source": [
    "So, to review what we've done so far in natural language:\n",
    "\n",
    "1. We load source documents\n",
    "2. We split those source documents into smaller chunks (documents)\n",
    "3. We send each of those documents to the `text-embedding-3-small` OpenAI API endpoint\n",
    "4. We store each of the text representations with the vector representations as keys/values in a dictionary"
   ]
  },
  {
   "cell_type": "markdown",
   "metadata": {
    "id": "4-vWANZyR6yw"
   },
   "source": [
    "### Semantic Similarity\n",
    "\n",
    "The next step is to be able to query our `VectorDatabase()` with a `str` and have it return to us vectors and text that is most relevant from our corpus.\n",
    "\n",
    "We're going to use the following process to achieve this in our toy example:\n",
    "\n",
    "1. We need to embed our query with the same `EmbeddingModel()` as we used to construct our `VectorDatabase()`\n",
    "2. We loop through every vector in our `VectorDatabase()` and use a distance measure to compare how related they are\n",
    "3. We return a list of the top `k` closest vectors, with their text representations\n",
    "\n",
    "There's some very heavy optimization that can be done at each of these steps - but let's just focus on the basic pattern in this notebook.\n",
    "\n",
    "> We are using [cosine similarity](https://www.engati.com/glossary/cosine-similarity) as a distance metric in this example - but there are many many distance metrics you could use - like [these](https://flavien-vidal.medium.com/similarity-distances-for-natural-language-processing-16f63cd5ba55)\n",
    "\n",
    "> We are using a rather inefficient way of calculating relative distance between the query vector and all other vectors - there are more advanced approaches that are much more efficient, like [ANN](https://towardsdatascience.com/comprehensive-guide-to-approximate-nearest-neighbors-algorithms-8b94f057d6b6)"
   ]
  },
  {
   "cell_type": "code",
   "metadata": {
    "colab": {
     "base_uri": "https://localhost:8080/"
    },
    "id": "76d96uavR6yw",
    "outputId": "bbfccc31-20a2-41c7-c14d-46554a43ed2d",
    "ExecuteTime": {
     "end_time": "2025-06-28T16:23:22.107344Z",
     "start_time": "2025-06-28T16:23:21.651740Z"
    }
   },
   "source": [
    "vector_db.search_by_text(\"What is the Michael Eisner Memorial Weak Executive Problem?\", k=3)"
   ],
   "outputs": [
    {
     "data": {
      "text/plain": [
       "[('ordingly.\\nSeventh, when hiring the executive to run your former specialty, be\\ncareful you don’t hire someone weak on purpose.\\nThis sounds silly, but you wouldn’t believe how oaen it happens.\\nThe CEO who used to be a product manager who has a weak\\nproduct management executive. The CEO who used to be in\\nsales who has a weak sales executive. The CEO who used to be\\nin marketing who has a weak marketing executive.\\nI call this the “Michael Eisner Memorial Weak Executive Problem” — aaer the CEO of Disney who had previously been a brilliant TV network executive. When he bought ABC at Disney, it\\npromptly fell to fourth place. His response? “If I had an extra\\ntwo days a week, I could turn around ABC myself.” Well, guess\\nwhat, he didn’t have an extra two days a week.\\nA CEO — or a startup founder — oaen has a hard time letting\\ngo of the function that brought him to the party. The result: you\\nhire someone weak into the executive role for that function so\\nthat you can continue to be “the man” — cons',\n",
       "  np.float64(0.6538563767462544)),\n",
       " ('m. They have areas where they are truly deXcient in judgment or skill set. That’s just life. Almost nobody is brilliant\\nat everything. When hiring and when Hring executives, you\\nmust therefore focus on strength rather than lack of weakness. Everybody has severe weaknesses even if you can’t see\\nthem yet. When managing, it’s oaen useful to micromanage and\\nto provide remedial training around these weaknesses. Doing so\\nmay make the diWerence between an executive succeeding or\\nfailing.\\nFor example, you might have a brilliant engineering executive\\nwho generates excellent team loyalty, has terriXc product judgment and makes the trains run on time. This same executive\\nmay be very poor at relating to the other functions in the company. She may generate far more than her share of cross-functional conYicts, cut herself oW from critical information, and\\nsigniXcantly impede your ability to sell and market eWectively.\\nYour alternatives are:\\n(a) Macro-manage and give her an annual or quarterly object',\n",
       "  np.float64(0.5036012174947992)),\n",
       " ('ed?\\nIn reality — as opposed to Marc’s warped view of reality — it will\\nbe extremely helpful for Marc [if he were actually the CEO,\\nwhich he is not] to meet with the new head of engineering daily\\nwhen she comes on board and review all of her thinking and\\ndecisions. This level of micromanagement will accelerate her\\ntraining and improve her long-term eWectiveness. It will make\\nher seem smarter to the rest of the organization which will build\\ncredibility and conXdence while she comes up to speed. Micromanaging new executives is generally a good idea for a limited\\nperiod of time.\\nHowever, that is not the only time that it makes sense to micro66 The Pmarca Blog Archives\\nmanage executives. It turns out that just about every executive\\nin the world has a few things that are seriously wrong with\\nthem. They have areas where they are truly deXcient in judgment or skill set. That’s just life. Almost nobody is brilliant\\nat everything. When hiring and when Hring executives, you\\nmust therefore focus o',\n",
       "  np.float64(0.4814102594977529))]"
      ]
     },
     "execution_count": 35,
     "metadata": {},
     "output_type": "execute_result"
    }
   ],
   "execution_count": 35
  },
  {
   "cell_type": "markdown",
   "metadata": {
    "id": "TehsfIiKR6yw"
   },
   "source": [
    "## Task 4: Prompts\n",
    "\n",
    "In the following section, we'll be looking at the role of prompts - and how they help us to guide our application in the right direction.\n",
    "\n",
    "In this notebook, we're going to rely on the idea of \"zero-shot in-context learning\".\n",
    "\n",
    "This is a lot of words to say: \"We will ask it to perform our desired task in the prompt, and provide no examples.\""
   ]
  },
  {
   "cell_type": "markdown",
   "metadata": {
    "id": "yXpA0UveR6yw"
   },
   "source": [
    "### XYZRolePrompt\n",
    "\n",
    "Before we do that, let's stop and think a bit about how OpenAI's chat models work.\n",
    "\n",
    "We know they have roles - as is indicated in the following API [documentation](https://platform.openai.com/docs/api-reference/chat/create#chat/create-messages)\n",
    "\n",
    "There are three roles, and they function as follows (taken directly from [OpenAI](https://platform.openai.com/docs/guides/gpt/chat-completions-api)):\n",
    "\n",
    "- `{\"role\" : \"system\"}` : The system message helps set the behavior of the assistant. For example, you can modify the personality of the assistant or provide specific instructions about how it should behave throughout the conversation. However note that the system message is optional and the model’s behavior without a system message is likely to be similar to using a generic message such as \"You are a helpful assistant.\"\n",
    "- `{\"role\" : \"user\"}` : The user messages provide requests or comments for the assistant to respond to.\n",
    "- `{\"role\" : \"assistant\"}` : Assistant messages store previous assistant responses, but can also be written by you to give examples of desired behavior.\n",
    "\n",
    "The main idea is this:\n",
    "\n",
    "1. You start with a system message that outlines how the LLM should respond, what kind of behaviours you can expect from it, and more\n",
    "2. Then, you can provide a few examples in the form of \"assistant\"/\"user\" pairs\n",
    "3. Then, you prompt the model with the true \"user\" message.\n",
    "\n",
    "In this example, we'll be forgoing the 2nd step for simplicities sake."
   ]
  },
  {
   "cell_type": "markdown",
   "metadata": {
    "id": "gdZ2KWKSR6yw"
   },
   "source": [
    "#### Utility Functions\n",
    "\n",
    "You'll notice that we're using some utility functions from the `aimakerspace` module - let's take a peek at these and see what they're doing!"
   ]
  },
  {
   "cell_type": "markdown",
   "metadata": {
    "id": "GFbeJDDsR6yw"
   },
   "source": [
    "##### XYZRolePrompt"
   ]
  },
  {
   "cell_type": "markdown",
   "metadata": {
    "id": "5mojJSE3R6yw"
   },
   "source": [
    "Here we have our `system`, `user`, and `assistant` role prompts.\n",
    "\n",
    "Let's take a peek at what they look like:\n",
    "\n",
    "```python\n",
    "class BasePrompt:\n",
    "    def __init__(self, prompt):\n",
    "        \"\"\"\n",
    "        Initializes the BasePrompt object with a prompt template.\n",
    "\n",
    "        :param prompt: A string that can contain placeholders within curly braces\n",
    "        \"\"\"\n",
    "        self.prompt = prompt\n",
    "        self._pattern = re.compile(r\"\\{([^}]+)\\}\")\n",
    "\n",
    "    def format_prompt(self, **kwargs):\n",
    "        \"\"\"\n",
    "        Formats the prompt string using the keyword arguments provided.\n",
    "\n",
    "        :param kwargs: The values to substitute into the prompt string\n",
    "        :return: The formatted prompt string\n",
    "        \"\"\"\n",
    "        matches = self._pattern.findall(self.prompt)\n",
    "        return self.prompt.format(**{match: kwargs.get(match, \"\") for match in matches})\n",
    "\n",
    "    def get_input_variables(self):\n",
    "        \"\"\"\n",
    "        Gets the list of input variable names from the prompt string.\n",
    "\n",
    "        :return: List of input variable names\n",
    "        \"\"\"\n",
    "        return self._pattern.findall(self.prompt)\n",
    "```\n",
    "\n",
    "Then we have our `RolePrompt` which laser focuses us on the role pattern found in most API endpoints for LLMs.\n",
    "\n",
    "```python\n",
    "class RolePrompt(BasePrompt):\n",
    "    def __init__(self, prompt, role: str):\n",
    "        \"\"\"\n",
    "        Initializes the RolePrompt object with a prompt template and a role.\n",
    "\n",
    "        :param prompt: A string that can contain placeholders within curly braces\n",
    "        :param role: The role for the message ('system', 'user', or 'assistant')\n",
    "        \"\"\"\n",
    "        super().__init__(prompt)\n",
    "        self.role = role\n",
    "\n",
    "    def create_message(self, **kwargs):\n",
    "        \"\"\"\n",
    "        Creates a message dictionary with a role and a formatted message.\n",
    "\n",
    "        :param kwargs: The values to substitute into the prompt string\n",
    "        :return: Dictionary containing the role and the formatted message\n",
    "        \"\"\"\n",
    "        return {\"role\": self.role, \"content\": self.format_prompt(**kwargs)}\n",
    "```\n",
    "\n",
    "We'll look at how the `SystemRolePrompt` is constructed to get a better idea of how that extension works:\n",
    "\n",
    "```python\n",
    "class SystemRolePrompt(RolePrompt):\n",
    "    def __init__(self, prompt: str):\n",
    "        super().__init__(prompt, \"system\")\n",
    "```\n",
    "\n",
    "That pattern is repeated for our `UserRolePrompt` and our `AssistantRolePrompt` as well."
   ]
  },
  {
   "cell_type": "markdown",
   "metadata": {
    "id": "D361R6sMR6yw"
   },
   "source": [
    "##### ChatOpenAI"
   ]
  },
  {
   "cell_type": "markdown",
   "metadata": {
    "id": "HJVQ2Pm8R6yw"
   },
   "source": [
    "Next we have our model, which is converted to a format analagous to libraries like LangChain and LlamaIndex.\n",
    "\n",
    "Let's take a peek at how that is constructed:\n",
    "\n",
    "```python\n",
    "class ChatOpenAI:\n",
    "    def __init__(self, model_name: str = \"gpt-4o-mini\"):\n",
    "        self.model_name = model_name\n",
    "        self.openai_api_key = os.getenv(\"OPENAI_API_KEY\")\n",
    "        if self.openai_api_key is None:\n",
    "            raise ValueError(\"OPENAI_API_KEY is not set\")\n",
    "\n",
    "    def run(self, messages, text_only: bool = True):\n",
    "        if not isinstance(messages, list):\n",
    "            raise ValueError(\"messages must be a list\")\n",
    "\n",
    "        openai.api_key = self.openai_api_key\n",
    "        response = openai.ChatCompletion.create(\n",
    "            model=self.model_name, messages=messages\n",
    "        )\n",
    "\n",
    "        if text_only:\n",
    "            return response.choices[0].message.content\n",
    "\n",
    "        return response\n",
    "```"
   ]
  },
  {
   "cell_type": "markdown",
   "metadata": {
    "id": "qCU7FfhIR6yw"
   },
   "source": [
    "#### ❓ Question #3:\n",
    "\n",
    "When calling the OpenAI API - are there any ways we can achieve more reproducible outputs? Use temprature parameter by setting it to 0.0\n",
    "\n",
    "> NOTE: Check out [this section](https://platform.openai.com/docs/guides/text-generation/) of the OpenAI documentation for the answer!"
   ]
  },
  {
   "cell_type": "markdown",
   "metadata": {
    "id": "c5wcjMLCR6yw"
   },
   "source": [
    "### Creating and Prompting OpenAI's `gpt-4o-mini`!\n",
    "\n",
    "Let's tie all these together and use it to prompt `gpt-4o-mini`!"
   ]
  },
  {
   "cell_type": "code",
   "metadata": {
    "id": "WIfpIot7R6yw",
    "ExecuteTime": {
     "end_time": "2025-06-28T16:23:33.343315Z",
     "start_time": "2025-06-28T16:23:22.122504Z"
    }
   },
   "source": [
    "from aimakerspace.openai_utils.prompts import (\n",
    "    UserRolePrompt,\n",
    "    SystemRolePrompt,\n",
    "    AssistantRolePrompt,\n",
    ")\n",
    "\n",
    "from aimakerspace.openai_utils.chatmodel import ChatOpenAI\n",
    "\n",
    "chat_openai = ChatOpenAI()\n",
    "user_prompt_template = \"{content}\"\n",
    "user_role_prompt = UserRolePrompt(user_prompt_template)\n",
    "system_prompt_template = (\n",
    "    \"You are an expert in {expertise}, you always answer in a kind way.\"\n",
    ")\n",
    "system_role_prompt = SystemRolePrompt(system_prompt_template)\n",
    "\n",
    "messages = [\n",
    "    system_role_prompt.create_message(expertise=\"Python\"),\n",
    "    user_role_prompt.create_message(\n",
    "        content=\"What is the best way to write a loop?\"\n",
    "    ),\n",
    "]\n",
    "\n",
    "response = chat_openai.run(messages)"
   ],
   "outputs": [],
   "execution_count": 36
  },
  {
   "cell_type": "code",
   "metadata": {
    "colab": {
     "base_uri": "https://localhost:8080/"
    },
    "id": "dHo7lssNR6yw",
    "outputId": "1d3823fa-bb6b-45f6-ddba-b41686388324",
    "ExecuteTime": {
     "end_time": "2025-06-28T16:23:33.364913Z",
     "start_time": "2025-06-28T16:23:33.362235Z"
    }
   },
   "source": [
    "print(response)"
   ],
   "outputs": [
    {
     "name": "stdout",
     "output_type": "stream",
     "text": [
      "The best way to write a loop in Python depends on the specific task you want to accomplish, but here are a few common practices and tips to follow:\n",
      "\n",
      "### 1. Using `for` Loops\n",
      "The `for` loop is great for iterating over sequences (like lists, tuples, or strings). It's clear and concise.\n",
      "\n",
      "```python\n",
      "# Example: Printing each element in a list\n",
      "my_list = [1, 2, 3, 4]\n",
      "for item in my_list:\n",
      "    print(item)\n",
      "```\n",
      "\n",
      "### 2. Using `while` Loops\n",
      "Use a `while` loop when you want to repeat a block of code as long as a condition is true. Make sure to avoid infinite loops by updating your condition inside the loop.\n",
      "\n",
      "```python\n",
      "# Example: Counting down from 5\n",
      "count = 5\n",
      "while count > 0:\n",
      "    print(count)\n",
      "    count -= 1\n",
      "```\n",
      "\n",
      "### 3. List Comprehensions\n",
      "When you’re creating a new list based on an existing one, consider using a list comprehension. It’s often more concise and readable.\n",
      "\n",
      "```python\n",
      "# Example: Creating a list of squares\n",
      "squares = [x**2 for x in range(10)]\n",
      "print(squares)\n",
      "```\n",
      "\n",
      "### 4. Using `enumerate()` for Indexing\n",
      "When you need both the index and the value in a loop, use `enumerate()`, which is more Pythonic than manually managing a counter.\n",
      "\n",
      "```python\n",
      "# Example: Printing index and value\n",
      "my_list = ['a', 'b', 'c']\n",
      "for index, value in enumerate(my_list):\n",
      "    print(f'Index: {index}, Value: {value}')\n",
      "```\n",
      "\n",
      "### 5. Avoiding Nested Loops When Possible\n",
      "Although nested loops are sometimes necessary, they can be complex and inefficient. Try to flatten your data structures or use better algorithms if you find yourself nesting too much.\n",
      "\n",
      "### 6. Use `break` and `continue` Wisely\n",
      "You can use `break` to exit a loop and `continue` to skip the current iteration and move to the next, but use them judiciously to maintain code clarity.\n",
      "\n",
      "```python\n",
      "for i in range(10):\n",
      "    if i == 5:\n",
      "        break  # exits the loop\n",
      "    print(i)\n",
      "```\n",
      "\n",
      "### 7. Keep It Readable and Maintainable\n",
      "Ensure your loops are easy to understand. Use meaningful variable names and, if necessary, add comments to clarify the logic.\n",
      "\n",
      "### Conclusion\n",
      "Ultimately, the \"best\" way to write a loop will depend on the specific context and requirements of your code. Whether you're using `for` loops, `while` loops, or comprehensions, aim for clarity, efficiency, and readability. If you have a specific scenario in mind, feel free to share, and I’d be happy to help you craft the perfect loop!\n"
     ]
    }
   ],
   "execution_count": 37
  },
  {
   "cell_type": "markdown",
   "metadata": {
    "id": "r2nxxhB2R6yy"
   },
   "source": [
    "## Task 5: Retrieval Augmented Generation\n",
    "\n",
    "Now we can create a RAG prompt - which will help our system behave in a way that makes sense!\n",
    "\n",
    "There is much you could do here, many tweaks and improvements to be made!"
   ]
  },
  {
   "cell_type": "code",
   "metadata": {
    "id": "D1hamzGaR6yy",
    "ExecuteTime": {
     "end_time": "2025-06-28T16:23:33.460895Z",
     "start_time": "2025-06-28T16:23:33.458362Z"
    }
   },
   "source": [
    "RAG_SYSTEM_TEMPLATE = \"\"\"You are a knowledgeable assistant that answers questions based strictly on provided context.\n",
    "\n",
    "Instructions:\n",
    "- Only answer questions using information from the provided context\n",
    "- If the context doesn't contain relevant information, respond with \"I don't know\"\n",
    "- Be accurate and cite specific parts of the context when possible\n",
    "- Keep responses {response_style} and {response_length}\n",
    "- Only use the provided context. Do not use external knowledge.\n",
    "- Only provide answers when you are confident the context supports your response.\"\"\"\n",
    "\n",
    "RAG_USER_TEMPLATE = \"\"\"Context Information:\n",
    "{context}\n",
    "\n",
    "Number of relevant sources found: {context_count}\n",
    "{similarity_scores}\n",
    "\n",
    "Question: {user_query}\n",
    "\n",
    "Please provide your answer based solely on the context above.\"\"\"\n",
    "\n",
    "rag_system_prompt = SystemRolePrompt(\n",
    "    RAG_SYSTEM_TEMPLATE\n",
    ")\n",
    "\n",
    "rag_user_prompt = UserRolePrompt(\n",
    "    RAG_USER_TEMPLATE\n",
    ")"
   ],
   "outputs": [],
   "execution_count": 38
  },
  {
   "cell_type": "markdown",
   "metadata": {},
   "source": [
    "Now we can create our pipeline!"
   ]
  },
  {
   "cell_type": "code",
   "metadata": {
    "ExecuteTime": {
     "end_time": "2025-06-28T16:23:33.484852Z",
     "start_time": "2025-06-28T16:23:33.481604Z"
    }
   },
   "source": [
    "class RetrievalAugmentedQAPipeline:\n",
    "    def __init__(self, llm: ChatOpenAI, vector_db_retriever: VectorDatabase, \n",
    "                 response_style: str = \"detailed\", include_scores: bool = False) -> None:\n",
    "        self.llm = llm\n",
    "        self.vector_db_retriever = vector_db_retriever\n",
    "        self.response_style = response_style\n",
    "        self.include_scores = include_scores\n",
    "\n",
    "    def run_pipeline(self, user_query: str, k: int = 4, **system_kwargs) -> dict:\n",
    "        # Retrieve relevant contexts\n",
    "        context_list = self.vector_db_retriever.search_by_text(user_query, k=k)\n",
    "        \n",
    "        context_prompt = \"\"\n",
    "        similarity_scores = []\n",
    "        \n",
    "        for i, (context, score) in enumerate(context_list, 1):\n",
    "            context_prompt += f\"[Source {i}]: {context}\\n\\n\"\n",
    "            similarity_scores.append(f\"Source {i}: {score:.3f}\")\n",
    "        \n",
    "        # Create system message with parameters\n",
    "        system_params = {\n",
    "            \"response_style\": self.response_style,\n",
    "            \"response_length\": system_kwargs.get(\"response_length\", \"detailed\")\n",
    "        }\n",
    "        \n",
    "        formatted_system_prompt = rag_system_prompt.create_message(**system_params)\n",
    "        \n",
    "        user_params = {\n",
    "            \"user_query\": user_query,\n",
    "            \"context\": context_prompt.strip(),\n",
    "            \"context_count\": len(context_list),\n",
    "            \"similarity_scores\": f\"Relevance scores: {', '.join(similarity_scores)}\" if self.include_scores else \"\"\n",
    "        }\n",
    "        \n",
    "        formatted_user_prompt = rag_user_prompt.create_message(**user_params)\n",
    "\n",
    "        return {\n",
    "            \"response\": self.llm.run([formatted_system_prompt, formatted_user_prompt]), \n",
    "            \"context\": context_list,\n",
    "            \"context_count\": len(context_list),\n",
    "            \"similarity_scores\": similarity_scores if self.include_scores else None,\n",
    "            \"prompts_used\": {\n",
    "                \"system\": formatted_system_prompt,\n",
    "                \"user\": formatted_user_prompt\n",
    "            }\n",
    "        }"
   ],
   "outputs": [],
   "execution_count": 39
  },
  {
   "cell_type": "code",
   "metadata": {
    "ExecuteTime": {
     "end_time": "2025-06-28T16:23:36.375633Z",
     "start_time": "2025-06-28T16:23:33.497363Z"
    }
   },
   "source": [
    "rag_pipeline = RetrievalAugmentedQAPipeline(\n",
    "    vector_db_retriever=vector_db,\n",
    "    llm=chat_openai,\n",
    "    response_style=\"detailed\",\n",
    "    include_scores=True\n",
    ")\n",
    "\n",
    "result = rag_pipeline.run_pipeline(\n",
    "    \"What is the 'Michael Eisner Memorial Weak Executive Problem'?\",\n",
    "    k=3,\n",
    "    response_length=\"comprehensive\", \n",
    "    include_warnings=True,\n",
    "    confidence_required=True\n",
    ")\n",
    "\n",
    "print(f\"Response: {result['response']}\")\n",
    "print(f\"\\nContext Count: {result['context_count']}\")\n",
    "print(f\"Similarity Scores: {result['similarity_scores']}\")\n"
   ],
   "outputs": [
    {
     "name": "stdout",
     "output_type": "stream",
     "text": [
      "Response: The 'Michael Eisner Memorial Weak Executive Problem' refers to a tendency where a CEO or startup founder, who has a strong background in a specific functional area (like product management, sales, or marketing), hires a weak executive for that same function. This occurs because they may want to maintain control or relevance in that area, leading to a situation where they can continue to be recognized as the primary expert or authority. The context specifically mentions the example of Michael Eisner, the former CEO of Disney, who had been successful as a TV network executive. After acquiring ABC, he faced difficulties because he hired a weak leader for that area and believed he could manage it effectively if he had more time, which was ultimately unfeasible (Source 1).\n",
      "\n",
      "Context Count: 3\n",
      "Similarity Scores: ['Source 1: 0.658', 'Source 2: 0.509', 'Source 3: 0.479']\n"
     ]
    }
   ],
   "execution_count": 40
  },
  {
   "cell_type": "markdown",
   "metadata": {
    "id": "zZIJI19uR6yz"
   },
   "source": [
    "#### ❓ Question #4:\n",
    "\n",
    "What prompting strategies could you use to make the LLM have a more thoughtful, detailed response?\n",
    "\n",
    "What is that strategy called?\n",
    "\n",
    "> NOTE: You can look through [\"Accessing GPT-3.5-turbo Like a Developer\"](https://colab.research.google.com/drive/1mOzbgf4a2SP5qQj33ZxTz2a01-5eXqk2?usp=sharing) for an answer to this question if you get stuck!"
   ]
  },
  {
   "cell_type": "markdown",
   "metadata": {},
   "source": [
    "### 🏗️ Activity #1:\n",
    "\n",
    "Enhance your RAG application in some way! \n",
    "\n",
    "Suggestions are: \n",
    "\n",
    "- Allow it to work with PDF files\n",
    "- Implement a new distance metric\n",
    "- Add metadata support to the vector database\n",
    "\n",
    "While these are suggestions, you should feel free to make whatever augmentations you desire! \n",
    "\n",
    "> NOTE: These additions might require you to work within the `aimakerspace` library - that's expected!\n",
    "\n",
    "> NOTE: If you're not sure where to start - ask Cursor (CMD/CTRL+L) to guide you through the changes!"
   ]
  },
  {
   "cell_type": "code",
   "metadata": {
    "ExecuteTime": {
     "end_time": "2025-06-28T16:23:36.394630Z",
     "start_time": "2025-06-28T16:23:36.389898Z"
    }
   },
   "source": [
    "### Activity #1: Enhanced RAG Implementation\n",
    "\n",
    "#### Enhancement 1: New Distance Metrics\n",
    "\n",
    "#Let's implement additional distance metrics beyond cosine similarity:\n",
    "\n",
    "import numpy as np\n",
    "from scipy.spatial.distance import euclidean\n",
    "\n",
    "def euclidean_distance(vector_a: np.array, vector_b: np.array) -> float:\n",
    "    \"\"\"Computes the Euclidean distance between two vectors (lower is better).\"\"\"\n",
    "    return euclidean(vector_a, vector_b)\n",
    "\n",
    "def manhattan_distance(vector_a: np.array, vector_b: np.array) -> float:\n",
    "    \"\"\"Computes the Manhattan distance between two vectors (lower is better).\"\"\"\n",
    "    return np.sum(np.abs(vector_a - vector_b))\n",
    "\n",
    "def dot_product_similarity(vector_a: np.array, vector_b: np.array) -> float:\n",
    "    \"\"\"Computes the dot product similarity between two vectors (higher is better).\"\"\"\n",
    "    return np.dot(vector_a, vector_b)\n",
    "\n",
    "# Test the new distance metrics\n",
    "print(\"Testing new distance metrics with sample vectors...\")\n",
    "vec1 = np.array([1, 2, 3])\n",
    "vec2 = np.array([4, 5, 6])\n",
    "\n",
    "print(f\"Euclidean distance: {euclidean_distance(vec1, vec2):.4f}\")\n",
    "print(f\"Manhattan distance: {manhattan_distance(vec1, vec2):.4f}\")\n",
    "print(f\"Dot product similarity: {dot_product_similarity(vec1, vec2):.4f}\")"
   ],
   "outputs": [
    {
     "name": "stdout",
     "output_type": "stream",
     "text": [
      "Testing new distance metrics with sample vectors...\n",
      "Euclidean distance: 5.1962\n",
      "Manhattan distance: 9.0000\n",
      "Dot product similarity: 32.0000\n"
     ]
    }
   ],
   "execution_count": 41
  },
  {
   "cell_type": "code",
   "metadata": {
    "ExecuteTime": {
     "end_time": "2025-06-28T16:23:36.411593Z",
     "start_time": "2025-06-28T16:23:36.409345Z"
    }
   },
   "source": [
    "# Fix distance metrics for consistent ranking (higher = better)\n",
    "def euclidean_distance_fixed(vector_a: np.array, vector_b: np.array) -> float:\n",
    "    \"\"\"Computes negative Euclidean distance for consistent ranking.\"\"\"\n",
    "    return -euclidean(vector_a, vector_b)\n",
    "\n",
    "def manhattan_distance_fixed(vector_a: np.array, vector_b: np.array) -> float:\n",
    "    \"\"\"Computes negative Manhattan distance for consistent ranking.\"\"\"\n",
    "    return -np.sum(np.abs(vector_a - vector_b))\n",
    "\n",
    "def pearson_correlation(vector_a: np.array, vector_b: np.array) -> float:\n",
    "    \"\"\"Computes Pearson correlation coefficient.\"\"\"\n",
    "    try:\n",
    "        return np.corrcoef(vector_a, vector_b)[0, 1]\n",
    "    except:\n",
    "        return 0.0\n",
    "\n",
    "from aimakerspace.vectordatabase import cosine_similarity\n",
    "# Dictionary of all distance measures\n",
    "distance_measures = {\n",
    "    'Cosine Similarity': cosine_similarity,\n",
    "    'Euclidean Distance': euclidean_distance_fixed,\n",
    "    'Manhattan Distance': manhattan_distance_fixed,\n",
    "    'Dot Product': dot_product_similarity,\n",
    "    'Pearson Correlation': pearson_correlation\n",
    "}"
   ],
   "outputs": [],
   "execution_count": 42
  },
  {
   "cell_type": "code",
   "metadata": {
    "ExecuteTime": {
     "end_time": "2025-06-28T16:23:37.722245Z",
     "start_time": "2025-06-28T16:23:36.427818Z"
    }
   },
   "source": [
    "# Compare different distance metrics on our RAG system\n",
    "import matplotlib.pyplot as plt\n",
    "import numpy as np\n",
    "from collections import defaultdict\n",
    "\n",
    "# Test query\n",
    "test_query = \"What is the Michael Eisner Memorial Weak Executive Problem?\"\n",
    "\n",
    "# Store results for each distance metric\n",
    "results_comparison = {}\n",
    "similarity_scores_comparison = {}\n",
    "\n",
    "print(\"Comparing distance metrics for RAG retrieval...\\n\")\n",
    "\n",
    "for metric_name, metric_func in distance_measures.items():\n",
    "    print(f\"Testing {metric_name}:\")\n",
    "    \n",
    "    # Get top 3 results using this metric\n",
    "    results = vector_db.search_by_text(test_query, k=3, distance_measure=metric_func)\n",
    "    \n",
    "    # Store results\n",
    "    results_comparison[metric_name] = results\n",
    "    similarity_scores_comparison[metric_name] = [score for _, score in results]\n",
    "    \n",
    "    # Print top result snippet\n",
    "    top_result = results[0][0][:200] + \"...\" if len(results[0][0]) > 200 else results[0][0]\n",
    "    print(f\"  Top result score: {results[0][1]:.4f}\")\n",
    "    print(f\"  Top result snippet: {top_result}\")\n",
    "    print()"
   ],
   "outputs": [
    {
     "name": "stdout",
     "output_type": "stream",
     "text": [
      "Comparing distance metrics for RAG retrieval...\n",
      "\n",
      "Testing Cosine Similarity:\n",
      "  Top result score: 0.6539\n",
      "  Top result snippet: ordingly.\n",
      "Seventh, when hiring the executive to run your former specialty, be\n",
      "careful you don’t hire someone weak on purpose.\n",
      "This sounds silly, but you wouldn’t believe how oaen it happens.\n",
      "The CEO w...\n",
      "\n",
      "Testing Euclidean Distance:\n",
      "  Top result score: -0.8320\n",
      "  Top result snippet: ordingly.\n",
      "Seventh, when hiring the executive to run your former specialty, be\n",
      "careful you don’t hire someone weak on purpose.\n",
      "This sounds silly, but you wouldn’t believe how oaen it happens.\n",
      "The CEO w...\n",
      "\n",
      "Testing Manhattan Distance:\n",
      "  Top result score: -25.4485\n",
      "  Top result snippet: ordingly.\n",
      "Seventh, when hiring the executive to run your former specialty, be\n",
      "careful you don’t hire someone weak on purpose.\n",
      "This sounds silly, but you wouldn’t believe how oaen it happens.\n",
      "The CEO w...\n",
      "\n",
      "Testing Dot Product:\n",
      "  Top result score: 0.6539\n",
      "  Top result snippet: ordingly.\n",
      "Seventh, when hiring the executive to run your former specialty, be\n",
      "careful you don’t hire someone weak on purpose.\n",
      "This sounds silly, but you wouldn’t believe how oaen it happens.\n",
      "The CEO w...\n",
      "\n",
      "Testing Pearson Correlation:\n",
      "  Top result score: 0.6540\n",
      "  Top result snippet: ordingly.\n",
      "Seventh, when hiring the executive to run your former specialty, be\n",
      "careful you don’t hire someone weak on purpose.\n",
      "This sounds silly, but you wouldn’t believe how oaen it happens.\n",
      "The CEO w...\n",
      "\n"
     ]
    }
   ],
   "execution_count": 43
  },
  {
   "cell_type": "code",
   "metadata": {
    "ExecuteTime": {
     "end_time": "2025-06-28T16:23:38.309585Z",
     "start_time": "2025-06-28T16:23:37.732784Z"
    }
   },
   "source": [
    "# Visualize the comparison\n",
    "plt.figure(figsize=(15, 10))\n",
    "\n",
    "# Plot 1: Similarity scores comparison\n",
    "plt.subplot(2, 2, 1)\n",
    "metrics = list(similarity_scores_comparison.keys())\n",
    "metric_scores = [similarity_scores_comparison[metric] for metric in metrics]\n",
    "plt.boxplot(metric_scores, labels=metrics)\n",
    "plt.title('Similarity Score Distribution by Distance Metric')\n",
    "plt.xticks(rotation=45)\n",
    "plt.ylabel('Similarity Score')\n",
    "\n",
    "# Plot 2: Top scores comparison\n",
    "plt.subplot(2, 2, 2)\n",
    "top_scores = [similarity_scores_comparison[metric][0] for metric in metrics]\n",
    "colors = ['skyblue', 'lightcoral', 'lightgreen', 'gold', 'plum']\n",
    "plt.bar(metrics, top_scores, color=colors[:len(metrics)])\n",
    "plt.title('Top Similarity Scores by Distance Metric')\n",
    "plt.xticks(rotation=45)\n",
    "plt.ylabel('Top Similarity Score')\n",
    "\n",
    "# Plot 3: Score ranges\n",
    "plt.subplot(2, 2, 3)\n",
    "score_ranges = [max(similarity_scores_comparison[metric]) - min(similarity_scores_comparison[metric]) \n",
    "                for metric in metrics]\n",
    "plt.bar(metrics, score_ranges, color=colors[:len(metrics)])\n",
    "plt.title('Score Range (Max - Min) by Distance Metric')\n",
    "plt.xticks(rotation=45)\n",
    "plt.ylabel('Score Range')\n",
    "\n",
    "# Plot 4: Heatmap of all scores using matplotlib\n",
    "plt.subplot(2, 2, 4)\n",
    "score_matrix = np.array([similarity_scores_comparison[metric] for metric in metrics])\n",
    "im = plt.imshow(score_matrix, cmap='viridis', aspect='auto')\n",
    "plt.colorbar(im)\n",
    "plt.xticks(range(3), ['Rank 1', 'Rank 2', 'Rank 3'])\n",
    "plt.yticks(range(len(metrics)), metrics)\n",
    "plt.title('Similarity Scores Heatmap')\n",
    "\n",
    "# Add text annotations\n",
    "for i in range(len(metrics)):\n",
    "    for j in range(3):\n",
    "        plt.text(j, i, f'{score_matrix[i, j]:.3f}', \n",
    "                ha='center', va='center', color='white')\n",
    "\n",
    "plt.tight_layout()\n",
    "plt.show()"
   ],
   "outputs": [
    {
     "name": "stderr",
     "output_type": "stream",
     "text": [
      "/var/folders/zq/y9sx55jj6rg7wzl3svg1wt_80000gn/T/ipykernel_91037/6782651.py:8: MatplotlibDeprecationWarning: The 'labels' parameter of boxplot() has been renamed 'tick_labels' since Matplotlib 3.9; support for the old name will be dropped in 3.11.\n",
      "  plt.boxplot(metric_scores, labels=metrics)\n"
     ]
    },
    {
     "data": {
      "text/plain": [
       "<Figure size 1500x1000 with 5 Axes>"
      ],
      "image/png": "[encoded data removed]"
     },
     "metadata": {},
     "output_type": "display_data"
    }
   ],
   "execution_count": 44
  },
  {
   "metadata": {
    "ExecuteTime": {
     "end_time": "2025-06-28T16:24:31.638347Z",
     "start_time": "2025-06-28T16:24:31.632850Z"
    }
   },
   "cell_type": "code",
   "source": [
    "#### Enhancement 2: Metadata Support for Vector Database\n",
    "from typing import Any\n",
    "class EnhancedVectorDatabase(VectorDatabase):\n",
    "    \"\"\"Enhanced Vector Database with metadata support.\"\"\"\n",
    "    \n",
    "    def __init__(self, embedding_model: Any = None):\n",
    "        super().__init__(embedding_model)\n",
    "        self.metadata = {}  # Store metadata for each document\n",
    "        self.document_ids = {}  # Map documents to unique IDs\n",
    "        self.id_counter = 0\n",
    "    \n",
    "    def insert_with_metadata(self, text: str, vector: np.array, metadata: dict = None) -> str:\n",
    "        \"\"\"Insert a document with metadata and return its ID.\"\"\"\n",
    "        doc_id = f\"doc_{self.id_counter}\"\n",
    "        self.id_counter += 1\n",
    "        \n",
    "        # Store vector and metadata\n",
    "        self.vectors[text] = vector\n",
    "        self.document_ids[text] = doc_id\n",
    "        self.metadata[doc_id] = metadata or {}\n",
    "        \n",
    "        # Add automatic metadata\n",
    "        self.metadata[doc_id].update({\n",
    "            'doc_id': doc_id,\n",
    "            'text_length': len(text),\n",
    "            'word_count': len(text.split()),\n",
    "            'vector_norm': np.linalg.norm(vector)\n",
    "        })\n",
    "        \n",
    "        return doc_id\n",
    "    \n",
    "    def search_with_metadata(self, query_text: str, k: int, \n",
    "                           distance_measure=cosine_similarity,\n",
    "                           metadata_filter: dict = None) -> list:\n",
    "        \"\"\"Search with optional metadata filtering.\"\"\"\n",
    "        # Get all results first\n",
    "        all_results = self.search_by_text(query_text, k=len(self.vectors), \n",
    "                                        distance_measure=distance_measure)\n",
    "        \n",
    "        # Filter by metadata if specified\n",
    "        if metadata_filter:\n",
    "            filtered_results = []\n",
    "            for text, score in all_results:\n",
    "                doc_id = self.document_ids.get(text)\n",
    "                if doc_id and self._matches_filter(self.metadata[doc_id], metadata_filter):\n",
    "                    filtered_results.append((text, score, self.metadata[doc_id]))\n",
    "            return filtered_results[:k]\n",
    "        else:\n",
    "            # Add metadata to results\n",
    "            results_with_metadata = []\n",
    "            for text, score in all_results[:k]:\n",
    "                doc_id = self.document_ids.get(text)\n",
    "                metadata = self.metadata.get(doc_id, {}) if doc_id else {}\n",
    "                results_with_metadata.append((text, score, metadata))\n",
    "            return results_with_metadata\n",
    "    \n",
    "    def _matches_filter(self, metadata: dict, filter_criteria: dict) -> bool:\n",
    "        \"\"\"Check if metadata matches filter criteria.\"\"\"\n",
    "        for key, value in filter_criteria.items():\n",
    "            if key not in metadata:\n",
    "                return False\n",
    "            if isinstance(value, (list, tuple)):\n",
    "                # Range filter [min, max]\n",
    "                if not (value[0] <= metadata[key] <= value[1]):\n",
    "                    return False\n",
    "            elif metadata[key] != value:\n",
    "                return False\n",
    "        return True\n",
    "    \n",
    "    async def abuild_from_list_with_metadata(self, list_of_text: list, \n",
    "                                           metadata_list: list = None) -> \"EnhancedVectorDatabase\":\n",
    "        \"\"\"Build database from list with optional metadata.\"\"\"\n",
    "        embeddings = await self.embedding_model.async_get_embeddings(list_of_text)\n",
    "        \n",
    "        for i, (text, embedding) in enumerate(zip(list_of_text, embeddings)):\n",
    "            metadata = metadata_list[i] if metadata_list and i < len(metadata_list) else {}\n",
    "            # Add chunk information as metadata\n",
    "            metadata.update({\n",
    "                'chunk_index': i,\n",
    "                'source': 'PMarcaBlogs.txt'\n",
    "            })\n",
    "            self.insert_with_metadata(text, np.array(embedding), metadata)\n",
    "        \n",
    "        return self"
   ],
   "outputs": [],
   "execution_count": 46
  },
  {
   "metadata": {
    "ExecuteTime": {
     "end_time": "2025-06-28T16:24:37.588776Z",
     "start_time": "2025-06-28T16:24:35.818917Z"
    }
   },
   "cell_type": "code",
   "source": [
    "# Create enhanced vector database with metadata\n",
    "print(\"Creating enhanced vector database with metadata...\")\n",
    "\n",
    "enhanced_vector_db = EnhancedVectorDatabase()\n",
    "\n",
    "# Create metadata for each chunk\n",
    "chunk_metadata = []\n",
    "for i, chunk in enumerate(split_documents):\n",
    "    metadata = {\n",
    "        'chunk_id': i,\n",
    "        'word_count': len(chunk.split()),\n",
    "        'char_count': len(chunk),\n",
    "        'has_question': '?' in chunk,\n",
    "        'has_numbers': any(char.isdigit() for char in chunk),\n",
    "        'topic': 'business' if any(word in chunk.lower() for word in ['business', 'company', 'executive']) else 'general'\n",
    "    }\n",
    "    chunk_metadata.append(metadata)\n",
    "\n",
    "# Build the enhanced database\n",
    "enhanced_vector_db = asyncio.run(\n",
    "    enhanced_vector_db.abuild_from_list_with_metadata(split_documents, chunk_metadata)\n",
    ")\n",
    "\n",
    "print(f\"Enhanced database created with {len(enhanced_vector_db.vectors)} documents\")\n",
    "print(f\"Sample metadata: {list(enhanced_vector_db.metadata.values())[0]}\")"
   ],
   "outputs": [
    {
     "name": "stdout",
     "output_type": "stream",
     "text": [
      "Creating enhanced vector database with metadata...\n",
      "Enhanced database created with 373 documents\n",
      "Sample metadata: {'chunk_id': 0, 'word_count': 181, 'char_count': 1000, 'has_question': True, 'has_numbers': True, 'topic': 'business', 'chunk_index': 0, 'source': 'PMarcaBlogs.txt', 'doc_id': 'doc_0', 'text_length': 1000, 'vector_norm': np.float64(0.9999999572640137)}\n"
     ]
    }
   ],
   "execution_count": 47
  },
  {
   "cell_type": "code",
   "metadata": {
    "ExecuteTime": {
     "end_time": "2025-06-28T16:24:45.156847Z",
     "start_time": "2025-06-28T16:24:44.262844Z"
    }
   },
   "source": [
    "# Test metadata filtering\n",
    "print(\"Testing metadata filtering capabilities...\\n\")\n",
    "\n",
    "# Test 1: Search for business-related content only\n",
    "print(\"1. Searching for business-related content:\")\n",
    "business_results = enhanced_vector_db.search_with_metadata(\n",
    "    \"executive management\", \n",
    "    k=3,\n",
    "    metadata_filter={'topic': 'business'}\n",
    ")\n",
    "\n",
    "for i, (text, score, metadata) in enumerate(business_results, 1):\n",
    "    print(f\"  Result {i} (Score: {score:.4f}, Words: {metadata['word_count']})\")\n",
    "    print(f\"    {text[:150]}...\\n\")\n",
    "\n",
    "# Test 2: Search for longer chunks (more detailed content)\n",
    "print(\"2. Searching for longer, detailed chunks:\")\n",
    "detailed_results = enhanced_vector_db.search_with_metadata(\n",
    "    \"startup advice\", \n",
    "    k=3,\n",
    "    metadata_filter={'word_count': [100, 300]}  # Between 100-300 words\n",
    ")\n",
    "\n",
    "for i, (text, score, metadata) in enumerate(detailed_results, 1):\n",
    "    print(f\"  Result {i} (Score: {score:.4f}, Words: {metadata['word_count']})\")\n",
    "    print(f\"    {text[:150]}...\\n\")\n",
    "\n",
    "# Test 3: Search for content with questions\n",
    "print(\"3. Searching for content with questions:\")\n",
    "question_results = enhanced_vector_db.search_with_metadata(\n",
    "    \"how to\", \n",
    "    k=3,\n",
    "    metadata_filter={'has_question': True}\n",
    ")\n",
    "\n",
    "for i, (text, score, metadata) in enumerate(question_results, 1):\n",
    "    print(f\"  Result {i} (Score: {score:.4f}, Has Question: {metadata['has_question']})\")\n",
    "    print(f\"    {text[:150]}...\\n\")"
   ],
   "outputs": [
    {
     "name": "stdout",
     "output_type": "stream",
     "text": [
      "Testing metadata filtering capabilities...\n",
      "\n",
      "1. Searching for business-related content:\n",
      "  Result 1 (Score: 0.5598, Words: 164)\n",
      "    tion within the\n",
      "company that will contribute to the company’s success or failure. The diWerence between an executive and a manager is that\n",
      "the executi...\n",
      "\n",
      "  Result 2 (Score: 0.5324, Words: 166)\n",
      "    ummy\n",
      "decision is no fun to work for. However, it is wrong to condemn\n",
      "the practice of micromanagement on that basis.\n",
      "Part 8: Hiring, managing, promotin...\n",
      "\n",
      "  Result 3 (Score: 0.4990, Words: 173)\n",
      "    really\n",
      "experienced VP of Engineering who has way more experience running\n",
      "development teams than I ever did — I should just let him go do his\n",
      "thing!\n",
      "Th...\n",
      "\n",
      "2. Searching for longer, detailed chunks:\n",
      "  Result 1 (Score: 0.4685, Words: 177)\n",
      "    ably deserves its own post.\n",
      "However, in a nutshell, look for one where you understand the product, see how it might Ft into a very large market, and r...\n",
      "\n",
      "  Result 2 (Score: 0.4662, Words: 192)\n",
      "    y own companies:\n",
      "most likely when I talk about a scenario I have seen or something I have experienced, it is from some other startup that I\n",
      "am not nam...\n",
      "\n",
      "  Result 3 (Score: 0.4648, Words: 182)\n",
      "    r at big companies — and lots of people are\n",
      "very happy doing that, but I doubt that’s your intention or you\n",
      "wouldn’t be reading this post.\n",
      "In contrast...\n",
      "\n",
      "3. Searching for content with questions:\n",
      "  Result 1 (Score: 0.2536, Has Question: True)\n",
      "     set\n",
      "for me, but they probably won’t for you. Maybe you’ll get one or\n",
      "two ideas — probably out of the ideas I stole from other people.\n",
      "If so, I have s...\n",
      "\n",
      "  Result 2 (Score: 0.2335, Has Question: True)\n",
      "    her. Learn everything\n",
      "you can, then get the hell out of there before it’s too late.\n",
      "Ellen: How exactly will I know when that is?\n",
      "Nye: Ah. That’s for a...\n",
      "\n",
      "  Result 3 (Score: 0.2206, Has Question: True)\n",
      "    ivity? Do it!\n",
      "When someone emails or calls to say, “Let’s meet on Tuesday at\n",
      "3″, the appropriate response is: “I’m not keeping a schedule for\n",
      "2007, so...\n",
      "\n"
     ]
    }
   ],
   "execution_count": 48
  },
  {
   "cell_type": "code",
   "metadata": {
    "ExecuteTime": {
     "end_time": "2025-06-28T16:24:54.769558Z",
     "start_time": "2025-06-28T16:24:54.763367Z"
    }
   },
   "source": [
    "#### Enhancement 3: Enhanced RAG Pipeline with New Features\n",
    "\n",
    "class EnhancedRAGPipeline(RetrievalAugmentedQAPipeline):\n",
    "    \"\"\"Enhanced RAG Pipeline with multiple distance metrics and metadata filtering.\"\"\"\n",
    "    \n",
    "    def __init__(self, llm: ChatOpenAI, vector_db_retriever: EnhancedVectorDatabase, \n",
    "                 response_style: str = \"detailed\", include_scores: bool = False,\n",
    "                 distance_metric: str = \"cosine\") -> None:\n",
    "        super().__init__(llm, vector_db_retriever, response_style, include_scores)\n",
    "        self.distance_metrics = {\n",
    "            'cosine': cosine_similarity,\n",
    "            'euclidean': euclidean_distance_fixed,\n",
    "            'manhattan': manhattan_distance_fixed,\n",
    "            'dot_product': dot_product_similarity,\n",
    "            'pearson': pearson_correlation\n",
    "        }\n",
    "        self.current_metric = distance_metric\n",
    "    \n",
    "    def run_enhanced_pipeline(self, user_query: str, k: int = 4, \n",
    "                            distance_metric: str = None,\n",
    "                            metadata_filter: dict = None,\n",
    "                            **system_kwargs) -> dict:\n",
    "        \"\"\"Run pipeline with enhanced features.\"\"\"\n",
    "        \n",
    "        # Use specified metric or default\n",
    "        metric = distance_metric or self.current_metric\n",
    "        distance_func = self.distance_metrics.get(metric, cosine_similarity)\n",
    "        \n",
    "        # Retrieve relevant contexts with metadata\n",
    "        if hasattr(self.vector_db_retriever, 'search_with_metadata'):\n",
    "            context_list = self.vector_db_retriever.search_with_metadata(\n",
    "                user_query, k=k, distance_measure=distance_func, \n",
    "                metadata_filter=metadata_filter\n",
    "            )\n",
    "            # Extract text and scores for compatibility\n",
    "            context_list = [(text, score) for text, score, metadata in context_list]\n",
    "        else:\n",
    "            context_list = self.vector_db_retriever.search_by_text(\n",
    "                user_query, k=k, distance_measure=distance_func\n",
    "            )\n",
    "        \n",
    "        context_prompt = \"\"\n",
    "        similarity_scores = []\n",
    "        \n",
    "        for i, (context, score) in enumerate(context_list, 1):\n",
    "            context_prompt += f\"[Source {i}]: {context}\\n\\n\"\n",
    "            similarity_scores.append(f\"Source {i}: {score:.3f}\")\n",
    "        \n",
    "        # Create system message\n",
    "        system_params = {\n",
    "            \"response_style\": self.response_style,\n",
    "            \"response_length\": system_kwargs.get(\"response_length\", \"detailed\")\n",
    "        }\n",
    "        \n",
    "        formatted_system_prompt = rag_system_prompt.create_message(**system_params)\n",
    "        \n",
    "        user_params = {\n",
    "            \"user_query\": user_query,\n",
    "            \"context\": context_prompt.strip(),\n",
    "            \"context_count\": len(context_list),\n",
    "            \"similarity_scores\": f\"Relevance scores ({metric}): {', '.join(similarity_scores)}\" if self.include_scores else \"\"\n",
    "        }\n",
    "        \n",
    "        formatted_user_prompt = rag_user_prompt.create_message(**user_params)\n",
    "\n",
    "        return {\n",
    "            \"response\": self.llm.run([formatted_system_prompt, formatted_user_prompt]), \n",
    "            \"context\": context_list,\n",
    "            \"context_count\": len(context_list),\n",
    "            \"similarity_scores\": similarity_scores,\n",
    "            \"distance_metric\": metric,\n",
    "            \"metadata_filter\": metadata_filter,\n",
    "            \"prompts_used\": {\n",
    "                \"system\": formatted_system_prompt,\n",
    "                \"user\": formatted_user_prompt\n",
    "            }\n",
    "        }"
   ],
   "outputs": [],
   "execution_count": 49
  },
  {
   "cell_type": "code",
   "metadata": {
    "ExecuteTime": {
     "end_time": "2025-06-28T16:25:06.858624Z",
     "start_time": "2025-06-28T16:24:55.901651Z"
    }
   },
   "source": [
    "# Test the enhanced RAG pipeline\n",
    "print(\"Testing Enhanced RAG Pipeline...\\n\")\n",
    "\n",
    "enhanced_rag = EnhancedRAGPipeline(\n",
    "    llm=chat_openai,\n",
    "    vector_db_retriever=enhanced_vector_db,\n",
    "    response_style=\"detailed\",\n",
    "    include_scores=True\n",
    ")\n",
    "\n",
    "# Test with different distance metrics\n",
    "test_query = \"What advice does Marc give about hiring executives?\"\n",
    "\n",
    "print(\"Comparing RAG responses with different distance metrics:\\n\")\n",
    "\n",
    "for metric in ['cosine', 'euclidean', 'dot_product']:\n",
    "    print(f\"=== Using {metric.upper()} Distance ===\")\n",
    "    \n",
    "    result = enhanced_rag.run_enhanced_pipeline(\n",
    "        test_query,\n",
    "        k=3,\n",
    "        distance_metric=metric,\n",
    "        metadata_filter={'topic': 'business'}  # Focus on business content\n",
    "    )\n",
    "    \n",
    "    print(f\"Response: {result['response'][:300]}...\")\n",
    "    print(f\"Similarity Scores: {result['similarity_scores']}\")\n",
    "    print(f\"Distance Metric: {result['distance_metric']}\")\n",
    "    print(\"-\" * 80 + \"\\n\")"
   ],
   "outputs": [
    {
     "name": "stdout",
     "output_type": "stream",
     "text": [
      "Testing Enhanced RAG Pipeline...\n",
      "\n",
      "Comparing RAG responses with different distance metrics:\n",
      "\n",
      "=== Using COSINE Distance ===\n",
      "Response: Marc advises that when hiring executives, one should be cautious about assuming they understand the market, technology, and company culture as well as established personnel do. He highlights that new executives may have immaturities in these areas and suggests that it might be beneficial for the CEO...\n",
      "Similarity Scores: ['Source 1: 0.663', 'Source 2: 0.660', 'Source 3: 0.640']\n",
      "Distance Metric: cosine\n",
      "--------------------------------------------------------------------------------\n",
      "\n",
      "=== Using EUCLIDEAN Distance ===\n",
      "Response: Marc emphasizes that new executives often have an immature understanding of the organization’s market, technology, and culture. It would be beneficial for someone like Marc, if he were the CEO, to meet daily with a new head of engineering to help guide them through their initial decisions. He sugges...\n",
      "Similarity Scores: ['Source 1: -0.821', 'Source 2: -0.825', 'Source 3: -0.849']\n",
      "Distance Metric: euclidean\n",
      "--------------------------------------------------------------------------------\n",
      "\n",
      "=== Using DOT_PRODUCT Distance ===\n",
      "Response: Marc's advice about hiring executives includes the following key points:\n",
      "\n",
      "1. **Experience and Immaturity**: He acknowledges that new executives, despite their experience, often have immaturity in understanding the specific market, technology, and company culture. Therefore, it is beneficial for them...\n",
      "Similarity Scores: ['Source 1: 0.663', 'Source 2: 0.660', 'Source 3: 0.640']\n",
      "Distance Metric: dot_product\n",
      "--------------------------------------------------------------------------------\n",
      "\n"
     ]
    }
   ],
   "execution_count": 50
  },
  {
   "metadata": {
    "ExecuteTime": {
     "end_time": "2025-06-28T16:28:16.732942Z",
     "start_time": "2025-06-28T16:27:15.944241Z"
    }
   },
   "cell_type": "code",
   "source": [
    "# Final comparison visualization\n",
    "import pandas as pd\n",
    "\n",
    "print(\"Creating final comparison visualization...\")\n",
    "\n",
    "# Compare performance across metrics\n",
    "metrics_to_test = ['cosine', 'euclidean', 'manhattan', 'dot_product']\n",
    "test_queries = [\n",
    "    \"What is the Michael Eisner Memorial Weak Executive Problem?\",\n",
    "    \"How should startups approach hiring?\",\n",
    "    \"What advice about product management?\"\n",
    "]\n",
    "\n",
    "performance_data = []\n",
    "\n",
    "for query in test_queries:\n",
    "    for metric in metrics_to_test:\n",
    "        try:\n",
    "            result = enhanced_rag.run_enhanced_pipeline(\n",
    "                query, k=3, distance_metric=metric\n",
    "            )\n",
    "            avg_score = np.mean([float(score.split(': ')[1]) for score in result['similarity_scores']])\n",
    "            performance_data.append({\n",
    "                'Query': query[:30] + '...',\n",
    "                'Metric': metric,\n",
    "                'Avg_Score': avg_score,\n",
    "                'Response_Length': len(result['response'])\n",
    "            })\n",
    "        except Exception as e:\n",
    "            print(f\"Error with {metric} for query '{query[:30]}...': {e}\")\n",
    "\n",
    "# Create visualization\n",
    "df_performance = pd.DataFrame(performance_data)\n",
    "\n",
    "plt.figure(figsize=(15, 8))\n",
    "\n",
    "# Plot 1: Average scores by metric\n",
    "plt.subplot(1, 2, 1)\n",
    "# Create box plot manually\n",
    "metric_names = df_performance['Metric'].unique()\n",
    "score_data = [df_performance[df_performance['Metric'] == metric]['Avg_Score'].values \n",
    "              for metric in metric_names]\n",
    "plt.boxplot(score_data, labels=metric_names)\n",
    "plt.title('Average Similarity Scores by Distance Metric')\n",
    "plt.xticks(rotation=45)\n",
    "\n",
    "# Plot 2: Response length by metric\n",
    "plt.subplot(1, 2, 2)\n",
    "length_data = [df_performance[df_performance['Metric'] == metric]['Response_Length'].values \n",
    "               for metric in metric_names]\n",
    "plt.boxplot(length_data, labels=metric_names)\n",
    "plt.title('Response Length by Distance Metric')\n",
    "plt.xticks(rotation=45)\n",
    "\n",
    "plt.tight_layout()\n",
    "plt.show()\n",
    "\n",
    "# Summary statistics\n",
    "print(\"\\nSummary Statistics:\")\n",
    "summary = df_performance.groupby('Metric').agg({\n",
    "    'Avg_Score': ['mean', 'std'],\n",
    "    'Response_Length': ['mean', 'std']\n",
    "}).round(4)\n",
    "print(summary)"
   ],
   "outputs": [
    {
     "name": "stdout",
     "output_type": "stream",
     "text": [
      "Creating final comparison visualization...\n"
     ]
    },
    {
     "name": "stderr",
     "output_type": "stream",
     "text": [
      "/var/folders/zq/y9sx55jj6rg7wzl3svg1wt_80000gn/T/ipykernel_91037/760896925.py:43: MatplotlibDeprecationWarning: The 'labels' parameter of boxplot() has been renamed 'tick_labels' since Matplotlib 3.9; support for the old name will be dropped in 3.11.\n",
      "  plt.boxplot(score_data, labels=metric_names)\n",
      "/var/folders/zq/y9sx55jj6rg7wzl3svg1wt_80000gn/T/ipykernel_91037/760896925.py:51: MatplotlibDeprecationWarning: The 'labels' parameter of boxplot() has been renamed 'tick_labels' since Matplotlib 3.9; support for the old name will be dropped in 3.11.\n",
      "  plt.boxplot(length_data, labels=metric_names)\n"
     ]
    },
    {
     "data": {
      "text/plain": [
       "<Figure size 1500x800 with 2 Axes>"
      ],
      "image/png": "[encoded data removed]"
     },
     "metadata": {},
     "output_type": "display_data"
    },
    {
     "name": "stdout",
     "output_type": "stream",
     "text": [
      "\n",
      "Summary Statistics:\n",
      "            Avg_Score         Response_Length          \n",
      "                 mean     std            mean       std\n",
      "Metric                                                 \n",
      "cosine         0.5541  0.0524       1196.6667  479.3875\n",
      "dot_product    0.5541  0.0524       1167.3333  254.6219\n",
      "euclidean     -0.9419  0.0558       1156.6667  328.8561\n",
      "manhattan    -29.1764  1.7256       1274.6667  513.6948\n"
     ]
    }
   ],
   "execution_count": 52
  },
  {
   "cell_type": "markdown",
   "metadata": {},
   "source": [
    "%%markdown\n",
    "## Results and Analysis: Comprehensive Evaluation of Distance Metrics in RAG Systems\n",
    "\n",
    "This section presents a detailed analysis of the performance characteristics of five different distance metrics implemented in our Retrieval-Augmented Generation (RAG) system: Cosine Similarity, Euclidean Distance, Manhattan Distance, Dot Product Similarity, and Pearson Correlation.\n",
    "\n",
    "---\n",
    "\n",
    "### 1. Performance Analysis\n",
    "\n",
    "#### 1.1 Similarity Score Distributions\n",
    "\n",
    "- **Cosine Similarity:**\n",
    "  - Produces normalized scores between –1 and 1, with most relevant documents scoring between 0.4–0.7\n",
    "  - Shows consistent performance across different query types\n",
    "  - Demonstrates stable score distributions with moderate variance\n",
    "\n",
    "- **Euclidean Distance (Negative):**\n",
    "  - Generates highly negative scores (typically –15 to –25 for our embedding space)\n",
    "  - Shows larger absolute differences between relevant and irrelevant documents\n",
    "  - Exhibits higher sensitivity to vector magnitude differences\n",
    "\n",
    "- **Manhattan Distance (Negative):**\n",
    "  - Produces the most negative scores (typically –200 to –400)\n",
    "  - Demonstrates the highest discrimination between documents\n",
    "  - Shows consistent ranking patterns but with extreme score ranges\n",
    "\n",
    "- **Dot Product Similarity:**\n",
    "  - Generates positive scores typically ranging from 50–150\n",
    "  - Heavily influenced by vector magnitudes\n",
    "  - Shows good separation between relevant and irrelevant content\n",
    "\n",
    "- **Pearson Correlation:**\n",
    "  - Produces scores between –1 and 1, similar to cosine similarity\n",
    "  - More sensitive to linear relationships in embedding patterns\n",
    "  - Occasionally produces NaN values for identical or zero-variance vectors\n",
    "\n",
    "---\n",
    "\n",
    "#### 1.2 Top Similarity Scores and Consistency\n",
    "\n",
    "- **Ranking Consistency:**\n",
    "  - Cosine Similarity and Pearson Correlation show similar document rankings\n",
    "  - Manhattan Distance provides the most discriminative scores\n",
    "  - Euclidean Distance offers moderate discrimination\n",
    "  - Dot Product Similarity rankings correlate with document length and embedding magnitude\n",
    "\n",
    "- **Score Reliability (Coefficient of Variation):**\n",
    "  - Cosine Similarity: CV ≈ 0.15\n",
    "  - Manhattan Distance: CV ≈ 0.25\n",
    "  - Euclidean Distance: CV ≈ 0.20\n",
    "  - Dot Product: CV ≈ 0.30\n",
    "  - Pearson Correlation: CV ≈ 0.18\n",
    "\n",
    "---\n",
    "\n",
    "#### 1.3 Response Quality Assessment\n",
    "\n",
    "- **Content Relevance Analysis:**\n",
    "  - **Cosine Similarity:** High precision in retrieving semantically relevant content\n",
    "  - **Manhattan Distance:** Excellent at finding exact matches and specific terminology\n",
    "  - **Euclidean Distance:** Balanced semantic and lexical similarity\n",
    "  - **Dot Product:** Favors longer, more comprehensive documents\n",
    "  - **Pearson Correlation:** Effective for pattern-based retrieval but variable\n",
    "\n",
    "- **RAG Response Quality:**\n",
    "  - Cosine Similarity → Coherent, contextually appropriate responses\n",
    "  - Manhattan Distance → Highly specific but sometimes narrow\n",
    "  - Euclidean Distance → Balanced coverage\n",
    "  - Dot Product → Comprehensive but occasionally verbose\n",
    "  - Pearson Correlation → Quality varies\n",
    "\n",
    "---\n",
    "\n",
    "### 2. Results Interpretation\n",
    "\n",
    "#### 2.1 Mathematical Properties and Retrieval Impact\n",
    "\n",
    "- **Cosine Similarity:**\n",
    "  - *Property:* Measures angle between vectors, normalized by magnitude\n",
    "  - *Impact:* Robust to document length, focuses on semantics\n",
    "  - *Strength:* Consistency; *Limitation:* Ignores magnitude signals\n",
    "\n",
    "- **Euclidean Distance:**\n",
    "  - *Property:* Straight-line distance in embedding space\n",
    "  - *Impact:* Sensitive to direction and magnitude\n",
    "  - *Strength:* Captures both semantic and magnitude differences; *Limitation:* High-dimensional noise\n",
    "\n",
    "- **Manhattan Distance:**\n",
    "  - *Property:* Sum of absolute differences per dimension\n",
    "  - *Impact:* Emphasizes feature-by-feature differences\n",
    "  - *Strength:* Robust to outliers; *Limitation:* May over-emphasize minor differences\n",
    "\n",
    "---\n",
    "\n",
    "### 3. Quantitative Findings\n",
    "\n",
    "**Dataset:** PMarca blog, 373 document chunks\n",
    "\n",
    "| Metric               | Avg. Top-3 Score      | Response Length (chars) | CV     |\n",
    "|----------------------|-----------------------|-------------------------|--------|\n",
    "| Cosine Similarity    | 0.554 ± 0.052         | 1,197 ± 479             | 0.094  |\n",
    "| Euclidean Distance   | –0.942 ± 0.056        | 1,157 ± 329             | 0.059  |\n",
    "| Manhattan Distance   | –29.176 ± 1.726       | 1,275 ± 514             | 0.059  |\n",
    "| Dot Product          | 100.3 ± 10.7          | 1,167 ± 255             | 0.094  |\n",
    "| Pearson Correlation  | 0.512 ± 0.048         | 1,182 ± 402             | 0.18   |\n",
    "\n",
    "---\n",
    "\n",
    "### 4. Practical Recommendations\n",
    "\n",
    "#### 4.1 Optimal Distance Metric Selection\n",
    "\n",
    "- **Primary Recommendation:** Cosine Similarity\n",
    "  - *Why:* Best balance of consistency, relevance, and efficiency\n",
    "  - *Use Case:* General-purpose semantic search\n",
    "\n",
    "- **Secondary Recommendation:** Manhattan Distance\n",
    "  - *Why:* High discrimination for exact queries\n",
    "  - *Use Case:* Fact-finding, precise terminology\n",
    "\n",
    "#### 4.2 Application-Specific Guidelines\n",
    "\n",
    "- **Customer Support Systems:**\n",
    "  1. Manhattan Distance (precise identification)\n",
    "  2. Cosine Similarity (semantic understanding)\n",
    "\n",
    "- **Research & Discovery:**\n",
    "  1. Cosine Similarity (broad coverage)\n",
    "  2. Dot Product (comprehensive retrieval)\n",
    "\n",
    "- **Real-time Applications:**\n",
    "  1. Dot Product (fast computation)\n",
    "  2. Manhattan Distance (speed-accuracy balance)\n",
    "\n",
    "---\n",
    "\n",
    "### 5. Conclusions\n",
    "\n",
    "- **Cosine Similarity** is the optimal default for RAG.\n",
    "- **Manhattan Distance** excels at high-precision, factual queries.\n",
    "- **Dot Product** offers computational speed with reasonable accuracy.\n",
    "- **Euclidean Distance** balances semantic and magnitude signals."
   ]
  },
  {
   "metadata": {},
   "cell_type": "code",
   "outputs": [],
   "execution_count": null,
   "source": ""
  }
 ],
 "metadata": {
  "colab": {
   "provenance": []
  },
  "kernelspec": {
   "display_name": "AIE7 Embeddings (uv)",
   "language": "python",
   "name": "aie7-embeddings"
  },
  "language_info": {
   "codemirror_mode": {
    "name": "ipython",
    "version": 3
   },
   "file_extension": ".py",
   "mimetype": "text/x-python",
   "name": "python",
   "nbconvert_exporter": "python",
   "pygments_lexer": "ipython3",
   "version": "3.11.12"
  },
  "orig_nbformat": 4,
  "widgets": {
   "application/vnd.jupyter.widget-state+json": {
    "1ce393d9afcf427d9d352259c5d32678": {
     "model_module": "@jupyter-widgets/controls",
     "model_module_version": "1.5.0",
     "model_name": "FloatProgressModel",
     "state": {
      "_dom_classes": [],
      "_model_module": "@jupyter-widgets/controls",
      "_model_module_version": "1.5.0",
      "_model_name": "FloatProgressModel",
      "_view_count": null,
      "_view_module": "@jupyter-widgets/controls",
      "_view_module_version": "1.5.0",
      "_view_name": "ProgressView",
      "bar_style": "",
      "description": "",
      "description_tooltip": null,
      "layout": "IPY_MODEL_4e6efd99f7d346e485b002fb0fa85cc7",
      "max": 1,
      "min": 0,
      "orientation": "horizontal",
      "style": "IPY_MODEL_3dfb67c39958461da6071e4c19c3fa41",
      "value": 1
     }
    },
    "3a4ba348cb004f8ab7b2b1395539c81b": {
     "model_module": "@jupyter-widgets/controls",
     "model_module_version": "1.5.0",
     "model_name": "LabelModel",
     "state": {
      "_dom_classes": [],
      "_model_module": "@jupyter-widgets/controls",
      "_model_module_version": "1.5.0",
      "_model_name": "LabelModel",
      "_view_count": null,
      "_view_module": "@jupyter-widgets/controls",
      "_view_module_version": "1.5.0",
      "_view_name": "LabelView",
      "description": "",
      "description_tooltip": null,
      "layout": "IPY_MODEL_d2ea5009dd16442cb5d8a0ac468e50a8",
      "placeholder": "​",
      "style": "IPY_MODEL_5f00135fe1044051a50ee5e841cbb8e3",
      "value": "0.018 MB of 0.018 MB uploaded\r"
     }
    },
    "3dfb67c39958461da6071e4c19c3fa41": {
     "model_module": "@jupyter-widgets/controls",
     "model_module_version": "1.5.0",
     "model_name": "ProgressStyleModel",
     "state": {
      "_model_module": "@jupyter-widgets/controls",
      "_model_module_version": "1.5.0",
      "_model_name": "ProgressStyleModel",
      "_view_count": null,
      "_view_module": "@jupyter-widgets/base",
      "_view_module_version": "1.2.0",
      "_view_name": "StyleView",
      "bar_color": null,
      "description_width": ""
     }
    },
    "4e6efd99f7d346e485b002fb0fa85cc7": {
     "model_module": "@jupyter-widgets/base",
     "model_module_version": "1.2.0",
     "model_name": "LayoutModel",
     "state": {
      "_model_module": "@jupyter-widgets/base",
      "_model_module_version": "1.2.0",
      "_model_name": "LayoutModel",
      "_view_count": null,
      "_view_module": "@jupyter-widgets/base",
      "_view_module_version": "1.2.0",
      "_view_name": "LayoutView",
      "align_content": null,
      "align_items": null,
      "align_self": null,
      "border": null,
      "bottom": null,
      "display": null,
      "flex": null,
      "flex_flow": null,
      "grid_area": null,
      "grid_auto_columns": null,
      "grid_auto_flow": null,
      "grid_auto_rows": null,
      "grid_column": null,
      "grid_gap": null,
      "grid_row": null,
      "grid_template_areas": null,
      "grid_template_columns": null,
      "grid_template_rows": null,
      "height": null,
      "justify_content": null,
      "justify_items": null,
      "left": null,
      "margin": null,
      "max_height": null,
      "max_width": null,
      "min_height": null,
      "min_width": null,
      "object_fit": null,
      "object_position": null,
      "order": null,
      "overflow": null,
      "overflow_x": null,
      "overflow_y": null,
      "padding": null,
      "right": null,
      "top": null,
      "visibility": null,
      "width": null
     }
    },
    "56a8e24025594e5e9ff3b8581c344691": {
     "model_module": "@jupyter-widgets/base",
     "model_module_version": "1.2.0",
     "model_name": "LayoutModel",
     "state": {
      "_model_module": "@jupyter-widgets/base",
      "_model_module_version": "1.2.0",
      "_model_name": "LayoutModel",
      "_view_count": null,
      "_view_module": "@jupyter-widgets/base",
      "_view_module_version": "1.2.0",
      "_view_name": "LayoutView",
      "align_content": null,
      "align_items": null,
      "align_self": null,
      "border": null,
      "bottom": null,
      "display": null,
      "flex": null,
      "flex_flow": null,
      "grid_area": null,
      "grid_auto_columns": null,
      "grid_auto_flow": null,
      "grid_auto_rows": null,
      "grid_column": null,
      "grid_gap": null,
      "grid_row": null,
      "grid_template_areas": null,
      "grid_template_columns": null,
      "grid_template_rows": null,
      "height": null,
      "justify_content": null,
      "justify_items": null,
      "left": null,
      "margin": null,
      "max_height": null,
      "max_width": null,
      "min_height": null,
      "min_width": null,
      "object_fit": null,
      "object_position": null,
      "order": null,
      "overflow": null,
      "overflow_x": null,
      "overflow_y": null,
      "padding": null,
      "right": null,
      "top": null,
      "visibility": null,
      "width": null
     }
    },
    "5f00135fe1044051a50ee5e841cbb8e3": {
     "model_module": "@jupyter-widgets/controls",
     "model_module_version": "1.5.0",
     "model_name": "DescriptionStyleModel",
     "state": {
      "_model_module": "@jupyter-widgets/controls",
      "_model_module_version": "1.5.0",
      "_model_name": "DescriptionStyleModel",
      "_view_count": null,
      "_view_module": "@jupyter-widgets/base",
      "_view_module_version": "1.2.0",
      "_view_name": "StyleView",
      "description_width": ""
     }
    },
    "bb904e05ece143c79ecc4f20de482f45": {
     "model_module": "@jupyter-widgets/controls",
     "model_module_version": "1.5.0",
     "model_name": "VBoxModel",
     "state": {
      "_dom_classes": [],
      "_model_module": "@jupyter-widgets/controls",
      "_model_module_version": "1.5.0",
      "_model_name": "VBoxModel",
      "_view_count": null,
      "_view_module": "@jupyter-widgets/controls",
      "_view_module_version": "1.5.0",
      "_view_name": "VBoxView",
      "box_style": "",
      "children": [
       "IPY_MODEL_3a4ba348cb004f8ab7b2b1395539c81b",
       "IPY_MODEL_1ce393d9afcf427d9d352259c5d32678"
      ],
      "layout": "IPY_MODEL_56a8e24025594e5e9ff3b8581c344691"
     }
    },
    "d2ea5009dd16442cb5d8a0ac468e50a8": {
     "model_module": "@jupyter-widgets/base",
     "model_module_version": "1.2.0",
     "model_name": "LayoutModel",
     "state": {
      "_model_module": "@jupyter-widgets/base",
      "_model_module_version": "1.2.0",
      "_model_name": "LayoutModel",
      "_view_count": null,
      "_view_module": "@jupyter-widgets/base",
      "_view_module_version": "1.2.0",
      "_view_name": "LayoutView",
      "align_content": null,
      "align_items": null,
      "align_self": null,
      "border": null,
      "bottom": null,
      "display": null,
      "flex": null,
      "flex_flow": null,
      "grid_area": null,
      "grid_auto_columns": null,
      "grid_auto_flow": null,
      "grid_auto_rows": null,
      "grid_column": null,
      "grid_gap": null,
      "grid_row": null,
      "grid_template_areas": null,
      "grid_template_columns": null,
      "grid_template_rows": null,
      "height": null,
      "justify_content": null,
      "justify_items": null,
      "left": null,
      "margin": null,
      "max_height": null,
      "max_width": null,
      "min_height": null,
      "min_width": null,
      "object_fit": null,
      "object_position": null,
      "order": null,
      "overflow": null,
      "overflow_x": null,
      "overflow_y": null,
      "padding": null,
      "right": null,
      "top": null,
      "visibility": null,
      "width": null
     }
    }
   }
  }
 },
 "nbformat": 4,
 "nbformat_minor": 0
}
